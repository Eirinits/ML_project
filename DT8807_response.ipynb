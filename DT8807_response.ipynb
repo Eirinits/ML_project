{
  "nbformat": 4,
  "nbformat_minor": 0,
  "metadata": {
    "colab": {
      "name": "DT8807_response.ipynb",
      "provenance": [],
      "collapsed_sections": [],
      "authorship_tag": "ABX9TyNcOfsCCGIFm6zNhIs9pM02",
      "include_colab_link": true
    },
    "kernelspec": {
      "name": "python3",
      "display_name": "Python 3"
    }
  },
  "cells": [
    {
      "cell_type": "markdown",
      "metadata": {
        "id": "view-in-github",
        "colab_type": "text"
      },
      "source": [
        "<a href=\"https://colab.research.google.com/github/Eirinits/ML_project/blob/main/DT8807_response.ipynb\" target=\"_parent\"><img src=\"https://colab.research.google.com/assets/colab-badge.svg\" alt=\"Open In Colab\"/></a>"
      ]
    },
    {
      "cell_type": "code",
      "metadata": {
        "id": "Zngpo5X5Bhq7",
        "colab": {
          "base_uri": "https://localhost:8080/"
        },
        "outputId": "ec3b9aa5-4258-4252-c0b1-a341a361d193"
      },
      "source": [
        "import pandas as pd\n",
        "import numpy as np\n",
        "from numpy import mean\n",
        "from numpy import std\n",
        "from math import sqrt\n",
        "\n",
        "from matplotlib import pyplot as plt\n",
        "from matplotlib.colors import ListedColormap\n",
        "import seaborn as sns\n",
        "\n",
        "from sklearn.preprocessing import MinMaxScaler\n",
        "from sklearn.feature_selection import SelectKBest, chi2\n",
        "from sklearn.neighbors import KNeighborsClassifier\n",
        "from sklearn.ensemble import RandomForestClassifier\n",
        "from sklearn.neural_network import MLPClassifier\n",
        "from sklearn.metrics import mean_squared_error, accuracy_score, confusion_matrix, plot_confusion_matrix, classification_report\n",
        "from sklearn.model_selection import train_test_split, RepeatedKFold, cross_val_score, GridSearchCV\n",
        "from sklearn.svm import SVC\n",
        "from sklearn.decomposition import PCA as RandomizedPCA\n",
        "from sklearn.pipeline import make_pipeline\n",
        "\n",
        "#from google.colab import files, drive\n",
        "#import io\n",
        "#drive.mount('/content/gdrive')\n"
      ],
      "execution_count": null,
      "outputs": [
        {
          "output_type": "stream",
          "text": [
            "Mounted at /content/gdrive\n"
          ],
          "name": "stdout"
        }
      ]
    },
    {
      "cell_type": "code",
      "metadata": {
        "id": "5aR_MyittweH"
      },
      "source": [
        "abundance_data = pd.read_csv('GSE106992.csv', sep=\"\\t\")\n",
        "samples_metadata = pd.read_csv('metadata_GSE106992.tsv', sep=\"\\t\")"
      ],
      "execution_count": null,
      "outputs": []
    },
    {
      "cell_type": "code",
      "metadata": {
        "id": "06FWrZzKyPdR"
      },
      "source": [
        "%%capture\n",
        "samples_metadata[\"Treatment_response\"] = samples_metadata[\"treatment\"] + \"_\" + samples_metadata['pasi75resp']\n",
        "samples_metadata[\"Treatment_response\"][samples_metadata['Treatment_response'].str.contains(\"Etanercept_No\")] = \"0\"\n",
        "samples_metadata[\"Treatment_response\"][samples_metadata['Treatment_response'].str.contains(\"Etanercept_Yes\")] = \"1\"\n",
        "samples_metadata[\"Treatment_response\"][samples_metadata['Treatment_response'].str.contains(\"Ustekinumab 90 mg_No\")] = \"2\"\n",
        "samples_metadata[\"Treatment_response\"][samples_metadata['Treatment_response'].str.contains(\"Ustekinumab 90 mg_Yes\")] = \"3\"\n",
        "\n",
        "samples_metadata[\"pasi75resp\"][samples_metadata['pasi75resp'].str.contains(\"Yes\")] = \"1\"\n",
        "samples_metadata[\"pasi75resp\"][samples_metadata['pasi75resp'].str.contains(\"No\")] = \"0\"\n",
        "\n",
        "samples_metadata = samples_metadata[['refinebio_accession_code','treatment','pasi75resp','description','Treatment_response']]\n",
        "#samples_metadata[\"refinebio_accession_code\"] = samples_metadata.index\n",
        "#samples_metadata"
      ],
      "execution_count": null,
      "outputs": []
    },
    {
      "cell_type": "code",
      "metadata": {
        "id": "KKN5v_WAIaZ-"
      },
      "source": [
        "# The following code prepares the data and metadata per sample type (psoriatic pre-treatment, healthy and psoriatic post-treatment)\n",
        "LS0_metadata = samples_metadata.loc[samples_metadata['description'] == \"LS Week 0\"]\n",
        "LS0_metadata[\"Treatment_response\"] = LS0_metadata[\"description\"].astype(str) + \"_\" + LS0_metadata[\"treatment\"] + \"_\" + LS0_metadata['pasi75resp']\n",
        "LS0_metadata[\"Treatment_response\"][LS0_metadata['Treatment_response'].str.contains(\"LS Week 0_Etanercept_No\")] = \"0\"\n",
        "LS0_metadata[\"Treatment_response\"][LS0_metadata['Treatment_response'].str.contains(\"LS Week 0_Etanercept_Yes\")] = \"1\"\n",
        "LS0_metadata[\"Treatment_response\"][LS0_metadata['Treatment_response'].str.contains(\"LS Week 0_Ustekinumab 90 mg_No\")] = \"2\"\n",
        "LS0_metadata[\"Treatment_response\"][LS0_metadata['Treatment_response'].str.contains(\"LS Week 0_Ustekinumab 90 mg_Yes\")] = \"3\"\n",
        "LS0_samples = list(LS0_metadata['refinebio_accession_code'])\n",
        "LS0_samples.append('Gene')\n",
        "LS0_data = abundance_data[abundance_data.columns & LS0_samples]\n",
        "\n",
        "NL0_metadata = samples_metadata.loc[samples_metadata['description'] == \"NL Week 0\"]\n",
        "NL0_metadata[\"Treatment_response\"][NL0_metadata['Treatment_response'].str.contains(\"NL Week 0_Etanercept_No\")] = \"0\"\n",
        "NL0_metadata[\"Treatment_response\"][NL0_metadata['Treatment_response'].str.contains(\"NL Week 0_Etanercept_Yes\")] = \"1\"\n",
        "NL0_metadata[\"Treatment_response\"][NL0_metadata['Treatment_response'].str.contains(\"NL Week 0_Ustekinumab 90 mg_No\")] = \"2\"\n",
        "NL0_metadata[\"Treatment_response\"][NL0_metadata['Treatment_response'].str.contains(\"NL Week 0_Ustekinumab 90 mg_Yes\")] = \"3\"\n",
        "NL0_samples = list(NL0_metadata['refinebio_accession_code'])\n",
        "NL0_samples.append('Gene')\n",
        "NL0_data = abundance_data[abundance_data.columns & NL0_samples]\n",
        "\n",
        "LS12_metadata = samples_metadata.loc[samples_metadata['description'] == \"LS Week 12\"]\n",
        "LS12_metadata[\"Treatment_response\"][LS12_metadata['Treatment_response'].str.contains(\"LS Week 12_Etanercept_No\")] = \"0\"\n",
        "LS12_metadata[\"Treatment_response\"][LS12_metadata['Treatment_response'].str.contains(\"LS Week 12_Etanercept_Yes\")] = \"1\"\n",
        "LS12_metadata[\"Treatment_response\"][LS12_metadata['Treatment_response'].str.contains(\"LS Week 12_Ustekinumab 90 mg_No\")] = \"2\"\n",
        "LS12_metadata[\"Treatment_response\"][LS12_metadata['Treatment_response'].str.contains(\"LS Week 12_Ustekinumab 90 mg_Yes\")] = \"3\"\n",
        "LS12_samples = list(LS12_metadata['refinebio_accession_code'])\n",
        "LS12_samples.append('Gene')\n",
        "LS12_data = abundance_data[abundance_data.columns & LS12_samples]"
      ],
      "execution_count": null,
      "outputs": []
    },
    {
      "cell_type": "code",
      "metadata": {
        "colab": {
          "base_uri": "https://localhost:8080/",
          "height": 362
        },
        "id": "-YKbcW424AAJ",
        "outputId": "82d0341f-f0e0-4359-90e8-7ae836249060"
      },
      "source": [
        "#Select the psoriatic pre-treated samples to run the analysis & annotate samples\n",
        "\n",
        "data_trans = LS0_data.T\n",
        "data_trans['Sample'] = data_trans.index\n",
        "\n",
        "annotated_samples_data = pd.merge(left=data_trans, right=LS0_metadata, left_on='Sample', right_on='refinebio_accession_code')\n",
        "annotated_samples_data.head()"
      ],
      "execution_count": null,
      "outputs": [
        {
          "output_type": "execute_result",
          "data": {
            "text/html": [
              "<div>\n",
              "<style scoped>\n",
              "    .dataframe tbody tr th:only-of-type {\n",
              "        vertical-align: middle;\n",
              "    }\n",
              "\n",
              "    .dataframe tbody tr th {\n",
              "        vertical-align: top;\n",
              "    }\n",
              "\n",
              "    .dataframe thead th {\n",
              "        text-align: right;\n",
              "    }\n",
              "</style>\n",
              "<table border=\"1\" class=\"dataframe\">\n",
              "  <thead>\n",
              "    <tr style=\"text-align: right;\">\n",
              "      <th></th>\n",
              "      <th>ENSG00000000003</th>\n",
              "      <th>ENSG00000000005</th>\n",
              "      <th>ENSG00000000419</th>\n",
              "      <th>ENSG00000000457</th>\n",
              "      <th>ENSG00000000460</th>\n",
              "      <th>ENSG00000000938</th>\n",
              "      <th>ENSG00000000971</th>\n",
              "      <th>ENSG00000001036</th>\n",
              "      <th>ENSG00000001084</th>\n",
              "      <th>ENSG00000001167</th>\n",
              "      <th>ENSG00000001460</th>\n",
              "      <th>ENSG00000001461</th>\n",
              "      <th>ENSG00000001497</th>\n",
              "      <th>ENSG00000001561</th>\n",
              "      <th>ENSG00000001617</th>\n",
              "      <th>ENSG00000001626</th>\n",
              "      <th>ENSG00000001629</th>\n",
              "      <th>ENSG00000001631</th>\n",
              "      <th>ENSG00000002016</th>\n",
              "      <th>ENSG00000002079</th>\n",
              "      <th>ENSG00000002330</th>\n",
              "      <th>ENSG00000002549</th>\n",
              "      <th>ENSG00000002586</th>\n",
              "      <th>ENSG00000002587</th>\n",
              "      <th>ENSG00000002726</th>\n",
              "      <th>ENSG00000002745</th>\n",
              "      <th>ENSG00000002822</th>\n",
              "      <th>ENSG00000002834</th>\n",
              "      <th>ENSG00000002919</th>\n",
              "      <th>ENSG00000002933</th>\n",
              "      <th>ENSG00000003056</th>\n",
              "      <th>ENSG00000003096</th>\n",
              "      <th>ENSG00000003137</th>\n",
              "      <th>ENSG00000003147</th>\n",
              "      <th>ENSG00000003249</th>\n",
              "      <th>ENSG00000003393</th>\n",
              "      <th>ENSG00000003400</th>\n",
              "      <th>ENSG00000003402</th>\n",
              "      <th>ENSG00000003436</th>\n",
              "      <th>ENSG00000003509</th>\n",
              "      <th>...</th>\n",
              "      <th>ENSG00000280401</th>\n",
              "      <th>ENSG00000280417</th>\n",
              "      <th>ENSG00000280420</th>\n",
              "      <th>ENSG00000280439</th>\n",
              "      <th>ENSG00000280670</th>\n",
              "      <th>ENSG00000280693</th>\n",
              "      <th>ENSG00000280721</th>\n",
              "      <th>ENSG00000280739</th>\n",
              "      <th>ENSG00000280832</th>\n",
              "      <th>ENSG00000280927</th>\n",
              "      <th>ENSG00000281097</th>\n",
              "      <th>ENSG00000281100</th>\n",
              "      <th>ENSG00000281103</th>\n",
              "      <th>ENSG00000281162</th>\n",
              "      <th>ENSG00000281189</th>\n",
              "      <th>ENSG00000281205</th>\n",
              "      <th>ENSG00000281332</th>\n",
              "      <th>ENSG00000281357</th>\n",
              "      <th>ENSG00000281358</th>\n",
              "      <th>ENSG00000281649</th>\n",
              "      <th>ENSG00000281732</th>\n",
              "      <th>ENSG00000281831</th>\n",
              "      <th>ENSG00000281912</th>\n",
              "      <th>ENSG00000281937</th>\n",
              "      <th>ENSG00000282408</th>\n",
              "      <th>ENSG00000282826</th>\n",
              "      <th>ENSG00000282863</th>\n",
              "      <th>ENSG00000282897</th>\n",
              "      <th>ENSG00000283103</th>\n",
              "      <th>ENSG00000283632</th>\n",
              "      <th>ENSG00000283703</th>\n",
              "      <th>ENSG00000283709</th>\n",
              "      <th>ENSG00000283849</th>\n",
              "      <th>ENSG00000284048</th>\n",
              "      <th>Sample</th>\n",
              "      <th>refinebio_accession_code</th>\n",
              "      <th>treatment</th>\n",
              "      <th>pasi75resp</th>\n",
              "      <th>description</th>\n",
              "      <th>Treatment_response</th>\n",
              "    </tr>\n",
              "  </thead>\n",
              "  <tbody>\n",
              "    <tr>\n",
              "      <th>0</th>\n",
              "      <td>3.999118</td>\n",
              "      <td>0.209370</td>\n",
              "      <td>10.160230</td>\n",
              "      <td>2.021201</td>\n",
              "      <td>1.386422</td>\n",
              "      <td>2.916298</td>\n",
              "      <td>9.712554</td>\n",
              "      <td>7.187549</td>\n",
              "      <td>2.374178</td>\n",
              "      <td>0.837759</td>\n",
              "      <td>0.356520</td>\n",
              "      <td>1.842310</td>\n",
              "      <td>0.954295</td>\n",
              "      <td>0.663054</td>\n",
              "      <td>1.141921</td>\n",
              "      <td>0.221051</td>\n",
              "      <td>2.152776</td>\n",
              "      <td>3.810606</td>\n",
              "      <td>0.692962</td>\n",
              "      <td>0.139410</td>\n",
              "      <td>0.089701</td>\n",
              "      <td>14.893121</td>\n",
              "      <td>10.542693</td>\n",
              "      <td>0.401651</td>\n",
              "      <td>0.964132</td>\n",
              "      <td>1.455896</td>\n",
              "      <td>0.429034</td>\n",
              "      <td>6.194603</td>\n",
              "      <td>3.655489</td>\n",
              "      <td>4.933172</td>\n",
              "      <td>0.887988</td>\n",
              "      <td>0.657171</td>\n",
              "      <td>0.764128</td>\n",
              "      <td>0.710435</td>\n",
              "      <td>0.435048</td>\n",
              "      <td>1.513397</td>\n",
              "      <td>0.313394</td>\n",
              "      <td>1.390595</td>\n",
              "      <td>1.253426</td>\n",
              "      <td>2.175159</td>\n",
              "      <td>...</td>\n",
              "      <td>0.123386</td>\n",
              "      <td>0.592484</td>\n",
              "      <td>0.436612</td>\n",
              "      <td>0.317812</td>\n",
              "      <td>1.378492</td>\n",
              "      <td>8.429405</td>\n",
              "      <td>0.081031</td>\n",
              "      <td>0.199204</td>\n",
              "      <td>0.125209</td>\n",
              "      <td>-0.066513</td>\n",
              "      <td>0.441937</td>\n",
              "      <td>0.502358</td>\n",
              "      <td>0.647065</td>\n",
              "      <td>0.291434</td>\n",
              "      <td>0.088552</td>\n",
              "      <td>-0.086872</td>\n",
              "      <td>0.320418</td>\n",
              "      <td>-0.023456</td>\n",
              "      <td>0.112303</td>\n",
              "      <td>3.274127</td>\n",
              "      <td>0.109595</td>\n",
              "      <td>0.424235</td>\n",
              "      <td>0.264749</td>\n",
              "      <td>0.266996</td>\n",
              "      <td>0.529832</td>\n",
              "      <td>3.789498</td>\n",
              "      <td>0.449585</td>\n",
              "      <td>0.536265</td>\n",
              "      <td>3.974633</td>\n",
              "      <td>0.373342</td>\n",
              "      <td>0.660415</td>\n",
              "      <td>3.095794</td>\n",
              "      <td>0.117747</td>\n",
              "      <td>0.202803</td>\n",
              "      <td>GSM2859024</td>\n",
              "      <td>GSM2859024</td>\n",
              "      <td>Etanercept</td>\n",
              "      <td>1</td>\n",
              "      <td>LS Week 0</td>\n",
              "      <td>LS Week 0_Etanercept_1</td>\n",
              "    </tr>\n",
              "    <tr>\n",
              "      <th>1</th>\n",
              "      <td>3.387931</td>\n",
              "      <td>0.333162</td>\n",
              "      <td>9.979965</td>\n",
              "      <td>1.608231</td>\n",
              "      <td>1.651067</td>\n",
              "      <td>1.411241</td>\n",
              "      <td>9.778852</td>\n",
              "      <td>6.015243</td>\n",
              "      <td>1.714251</td>\n",
              "      <td>0.924688</td>\n",
              "      <td>0.351701</td>\n",
              "      <td>1.925300</td>\n",
              "      <td>1.339046</td>\n",
              "      <td>0.685188</td>\n",
              "      <td>1.993909</td>\n",
              "      <td>0.218585</td>\n",
              "      <td>1.561379</td>\n",
              "      <td>4.092296</td>\n",
              "      <td>0.646908</td>\n",
              "      <td>0.131093</td>\n",
              "      <td>0.398918</td>\n",
              "      <td>18.299376</td>\n",
              "      <td>20.004307</td>\n",
              "      <td>0.293589</td>\n",
              "      <td>0.466323</td>\n",
              "      <td>1.263459</td>\n",
              "      <td>0.624310</td>\n",
              "      <td>6.529169</td>\n",
              "      <td>3.017165</td>\n",
              "      <td>1.654127</td>\n",
              "      <td>1.666400</td>\n",
              "      <td>0.468437</td>\n",
              "      <td>0.710781</td>\n",
              "      <td>0.898941</td>\n",
              "      <td>0.450078</td>\n",
              "      <td>1.452174</td>\n",
              "      <td>0.295467</td>\n",
              "      <td>1.495649</td>\n",
              "      <td>1.134984</td>\n",
              "      <td>2.430605</td>\n",
              "      <td>...</td>\n",
              "      <td>0.143680</td>\n",
              "      <td>0.714254</td>\n",
              "      <td>0.299554</td>\n",
              "      <td>0.126452</td>\n",
              "      <td>3.560730</td>\n",
              "      <td>5.755833</td>\n",
              "      <td>0.195846</td>\n",
              "      <td>0.198311</td>\n",
              "      <td>0.051350</td>\n",
              "      <td>0.054533</td>\n",
              "      <td>0.335135</td>\n",
              "      <td>0.278506</td>\n",
              "      <td>0.390154</td>\n",
              "      <td>0.317330</td>\n",
              "      <td>0.222524</td>\n",
              "      <td>0.078260</td>\n",
              "      <td>0.480560</td>\n",
              "      <td>0.026301</td>\n",
              "      <td>0.240877</td>\n",
              "      <td>3.332095</td>\n",
              "      <td>0.061513</td>\n",
              "      <td>0.267352</td>\n",
              "      <td>0.283411</td>\n",
              "      <td>0.162890</td>\n",
              "      <td>0.512247</td>\n",
              "      <td>5.151493</td>\n",
              "      <td>0.285039</td>\n",
              "      <td>0.326211</td>\n",
              "      <td>5.082514</td>\n",
              "      <td>0.349273</td>\n",
              "      <td>0.478878</td>\n",
              "      <td>2.275275</td>\n",
              "      <td>0.110841</td>\n",
              "      <td>0.178581</td>\n",
              "      <td>GSM2859027</td>\n",
              "      <td>GSM2859027</td>\n",
              "      <td>Etanercept</td>\n",
              "      <td>0</td>\n",
              "      <td>LS Week 0</td>\n",
              "      <td>LS Week 0_Etanercept_0</td>\n",
              "    </tr>\n",
              "    <tr>\n",
              "      <th>2</th>\n",
              "      <td>4.278266</td>\n",
              "      <td>0.560401</td>\n",
              "      <td>8.440232</td>\n",
              "      <td>1.746125</td>\n",
              "      <td>1.008796</td>\n",
              "      <td>2.468296</td>\n",
              "      <td>10.586833</td>\n",
              "      <td>7.243020</td>\n",
              "      <td>1.777375</td>\n",
              "      <td>0.634345</td>\n",
              "      <td>0.333264</td>\n",
              "      <td>2.346962</td>\n",
              "      <td>0.981326</td>\n",
              "      <td>0.628807</td>\n",
              "      <td>2.086203</td>\n",
              "      <td>0.307896</td>\n",
              "      <td>1.504124</td>\n",
              "      <td>3.264349</td>\n",
              "      <td>0.540365</td>\n",
              "      <td>0.044027</td>\n",
              "      <td>0.422706</td>\n",
              "      <td>14.637146</td>\n",
              "      <td>14.559906</td>\n",
              "      <td>0.358683</td>\n",
              "      <td>0.711902</td>\n",
              "      <td>1.267411</td>\n",
              "      <td>0.368477</td>\n",
              "      <td>7.776684</td>\n",
              "      <td>3.952685</td>\n",
              "      <td>3.901264</td>\n",
              "      <td>1.291623</td>\n",
              "      <td>0.345845</td>\n",
              "      <td>0.589725</td>\n",
              "      <td>0.739983</td>\n",
              "      <td>0.483115</td>\n",
              "      <td>1.404462</td>\n",
              "      <td>0.260749</td>\n",
              "      <td>1.534621</td>\n",
              "      <td>1.098743</td>\n",
              "      <td>1.711601</td>\n",
              "      <td>...</td>\n",
              "      <td>0.067511</td>\n",
              "      <td>0.442190</td>\n",
              "      <td>0.379738</td>\n",
              "      <td>0.172556</td>\n",
              "      <td>3.195782</td>\n",
              "      <td>8.918114</td>\n",
              "      <td>0.367850</td>\n",
              "      <td>0.065611</td>\n",
              "      <td>0.107990</td>\n",
              "      <td>-0.068705</td>\n",
              "      <td>0.382095</td>\n",
              "      <td>0.406633</td>\n",
              "      <td>0.566721</td>\n",
              "      <td>0.306759</td>\n",
              "      <td>-0.010533</td>\n",
              "      <td>0.020647</td>\n",
              "      <td>0.406738</td>\n",
              "      <td>0.048936</td>\n",
              "      <td>0.294150</td>\n",
              "      <td>2.452836</td>\n",
              "      <td>0.163663</td>\n",
              "      <td>0.225927</td>\n",
              "      <td>0.258594</td>\n",
              "      <td>0.314253</td>\n",
              "      <td>0.315319</td>\n",
              "      <td>3.673298</td>\n",
              "      <td>0.219653</td>\n",
              "      <td>0.145258</td>\n",
              "      <td>4.962638</td>\n",
              "      <td>0.416791</td>\n",
              "      <td>0.207037</td>\n",
              "      <td>2.921586</td>\n",
              "      <td>0.131166</td>\n",
              "      <td>0.278244</td>\n",
              "      <td>GSM2859030</td>\n",
              "      <td>GSM2859030</td>\n",
              "      <td>Ustekinumab 90 mg</td>\n",
              "      <td>1</td>\n",
              "      <td>LS Week 0</td>\n",
              "      <td>LS Week 0_Ustekinumab 90 mg_1</td>\n",
              "    </tr>\n",
              "    <tr>\n",
              "      <th>3</th>\n",
              "      <td>4.183398</td>\n",
              "      <td>0.063336</td>\n",
              "      <td>10.087452</td>\n",
              "      <td>1.502457</td>\n",
              "      <td>1.457531</td>\n",
              "      <td>1.545818</td>\n",
              "      <td>4.866335</td>\n",
              "      <td>6.793379</td>\n",
              "      <td>2.140605</td>\n",
              "      <td>0.866381</td>\n",
              "      <td>0.391828</td>\n",
              "      <td>1.608231</td>\n",
              "      <td>1.089190</td>\n",
              "      <td>0.645440</td>\n",
              "      <td>1.539515</td>\n",
              "      <td>0.365622</td>\n",
              "      <td>2.339213</td>\n",
              "      <td>2.628347</td>\n",
              "      <td>0.602607</td>\n",
              "      <td>0.116594</td>\n",
              "      <td>0.458305</td>\n",
              "      <td>14.811855</td>\n",
              "      <td>16.200221</td>\n",
              "      <td>0.463337</td>\n",
              "      <td>0.733836</td>\n",
              "      <td>1.540907</td>\n",
              "      <td>0.618741</td>\n",
              "      <td>5.755833</td>\n",
              "      <td>3.401518</td>\n",
              "      <td>1.953581</td>\n",
              "      <td>2.072903</td>\n",
              "      <td>0.353748</td>\n",
              "      <td>0.686070</td>\n",
              "      <td>0.717154</td>\n",
              "      <td>0.560846</td>\n",
              "      <td>1.330769</td>\n",
              "      <td>0.357431</td>\n",
              "      <td>2.206082</td>\n",
              "      <td>0.839007</td>\n",
              "      <td>2.059263</td>\n",
              "      <td>...</td>\n",
              "      <td>0.053024</td>\n",
              "      <td>0.967382</td>\n",
              "      <td>0.190014</td>\n",
              "      <td>0.132941</td>\n",
              "      <td>0.983489</td>\n",
              "      <td>8.614004</td>\n",
              "      <td>0.289493</td>\n",
              "      <td>0.112238</td>\n",
              "      <td>0.078956</td>\n",
              "      <td>0.435626</td>\n",
              "      <td>0.405147</td>\n",
              "      <td>0.494774</td>\n",
              "      <td>0.704026</td>\n",
              "      <td>0.352833</td>\n",
              "      <td>0.315906</td>\n",
              "      <td>-0.154495</td>\n",
              "      <td>0.435746</td>\n",
              "      <td>0.173337</td>\n",
              "      <td>0.344734</td>\n",
              "      <td>3.905936</td>\n",
              "      <td>0.139410</td>\n",
              "      <td>0.122157</td>\n",
              "      <td>0.241724</td>\n",
              "      <td>0.239964</td>\n",
              "      <td>0.322848</td>\n",
              "      <td>3.536863</td>\n",
              "      <td>0.197277</td>\n",
              "      <td>0.202479</td>\n",
              "      <td>4.423002</td>\n",
              "      <td>0.413346</td>\n",
              "      <td>1.299636</td>\n",
              "      <td>1.862130</td>\n",
              "      <td>0.166823</td>\n",
              "      <td>0.305910</td>\n",
              "      <td>GSM2859033</td>\n",
              "      <td>GSM2859033</td>\n",
              "      <td>Etanercept</td>\n",
              "      <td>0</td>\n",
              "      <td>LS Week 0</td>\n",
              "      <td>LS Week 0_Etanercept_0</td>\n",
              "    </tr>\n",
              "    <tr>\n",
              "      <th>4</th>\n",
              "      <td>3.508014</td>\n",
              "      <td>1.851602</td>\n",
              "      <td>9.062620</td>\n",
              "      <td>1.090499</td>\n",
              "      <td>1.293689</td>\n",
              "      <td>2.329358</td>\n",
              "      <td>22.978356</td>\n",
              "      <td>7.234857</td>\n",
              "      <td>1.716184</td>\n",
              "      <td>0.612464</td>\n",
              "      <td>0.326116</td>\n",
              "      <td>2.229081</td>\n",
              "      <td>1.194699</td>\n",
              "      <td>0.884927</td>\n",
              "      <td>1.749335</td>\n",
              "      <td>0.171701</td>\n",
              "      <td>1.791509</td>\n",
              "      <td>2.900006</td>\n",
              "      <td>0.497010</td>\n",
              "      <td>0.086630</td>\n",
              "      <td>0.534026</td>\n",
              "      <td>16.225174</td>\n",
              "      <td>24.616724</td>\n",
              "      <td>0.318209</td>\n",
              "      <td>0.511020</td>\n",
              "      <td>0.968107</td>\n",
              "      <td>0.531208</td>\n",
              "      <td>7.263664</td>\n",
              "      <td>3.706526</td>\n",
              "      <td>1.763139</td>\n",
              "      <td>1.680818</td>\n",
              "      <td>0.461360</td>\n",
              "      <td>0.731735</td>\n",
              "      <td>0.763380</td>\n",
              "      <td>0.420277</td>\n",
              "      <td>1.396848</td>\n",
              "      <td>0.240201</td>\n",
              "      <td>1.494251</td>\n",
              "      <td>1.160028</td>\n",
              "      <td>1.739482</td>\n",
              "      <td>...</td>\n",
              "      <td>0.096823</td>\n",
              "      <td>0.402555</td>\n",
              "      <td>0.318307</td>\n",
              "      <td>0.159607</td>\n",
              "      <td>1.191087</td>\n",
              "      <td>5.055601</td>\n",
              "      <td>0.436485</td>\n",
              "      <td>0.133963</td>\n",
              "      <td>0.125066</td>\n",
              "      <td>-0.010264</td>\n",
              "      <td>0.301166</td>\n",
              "      <td>0.508725</td>\n",
              "      <td>0.547424</td>\n",
              "      <td>0.181404</td>\n",
              "      <td>0.020315</td>\n",
              "      <td>0.065757</td>\n",
              "      <td>0.357751</td>\n",
              "      <td>0.096238</td>\n",
              "      <td>0.257476</td>\n",
              "      <td>3.330325</td>\n",
              "      <td>0.082675</td>\n",
              "      <td>0.226510</td>\n",
              "      <td>0.271587</td>\n",
              "      <td>0.221937</td>\n",
              "      <td>0.294054</td>\n",
              "      <td>3.814103</td>\n",
              "      <td>0.180298</td>\n",
              "      <td>0.176437</td>\n",
              "      <td>4.333819</td>\n",
              "      <td>0.348340</td>\n",
              "      <td>0.589419</td>\n",
              "      <td>2.462373</td>\n",
              "      <td>0.071170</td>\n",
              "      <td>0.306096</td>\n",
              "      <td>GSM2859036</td>\n",
              "      <td>GSM2859036</td>\n",
              "      <td>Ustekinumab 90 mg</td>\n",
              "      <td>0</td>\n",
              "      <td>LS Week 0</td>\n",
              "      <td>LS Week 0_Ustekinumab 90 mg_0</td>\n",
              "    </tr>\n",
              "  </tbody>\n",
              "</table>\n",
              "<p>5 rows × 16413 columns</p>\n",
              "</div>"
            ],
            "text/plain": [
              "   ENSG00000000003  ENSG00000000005  ...  description             Treatment_response\n",
              "0         3.999118         0.209370  ...    LS Week 0         LS Week 0_Etanercept_1\n",
              "1         3.387931         0.333162  ...    LS Week 0         LS Week 0_Etanercept_0\n",
              "2         4.278266         0.560401  ...    LS Week 0  LS Week 0_Ustekinumab 90 mg_1\n",
              "3         4.183398         0.063336  ...    LS Week 0         LS Week 0_Etanercept_0\n",
              "4         3.508014         1.851602  ...    LS Week 0  LS Week 0_Ustekinumab 90 mg_0\n",
              "\n",
              "[5 rows x 16413 columns]"
            ]
          },
          "metadata": {
            "tags": []
          },
          "execution_count": 40
        }
      ]
    },
    {
      "cell_type": "code",
      "metadata": {
        "id": "aXu7N5WLzTvd",
        "colab": {
          "base_uri": "https://localhost:8080/"
        },
        "outputId": "1a8d98f0-f51a-4f7f-9c99-6e8c578d19d7"
      },
      "source": [
        "%%capture\n",
        "# Select X (feautures) and y (target)\n",
        "X = annotated_samples_data.loc[:, annotated_samples_data.columns.str.startswith('ENSG')]\n",
        "X[X < 0] = 0\n",
        "y = annotated_samples_data.loc[:, 'pasi75resp'] "
      ],
      "execution_count": null,
      "outputs": [
        {
          "output_type": "stream",
          "text": [
            "/usr/local/lib/python3.7/dist-packages/ipykernel_launcher.py:3: SettingWithCopyWarning: \n",
            "A value is trying to be set on a copy of a slice from a DataFrame.\n",
            "Try using .loc[row_indexer,col_indexer] = value instead\n",
            "\n",
            "See the caveats in the documentation: https://pandas.pydata.org/pandas-docs/stable/user_guide/indexing.html#returning-a-view-versus-a-copy\n",
            "  This is separate from the ipykernel package so we can avoid doing imports until\n",
            "/usr/local/lib/python3.7/dist-packages/pandas/core/frame.py:3093: SettingWithCopyWarning: \n",
            "A value is trying to be set on a copy of a slice from a DataFrame\n",
            "\n",
            "See the caveats in the documentation: https://pandas.pydata.org/pandas-docs/stable/user_guide/indexing.html#returning-a-view-versus-a-copy\n",
            "  self._where(-key, value, inplace=True)\n"
          ],
          "name": "stderr"
        }
      ]
    },
    {
      "cell_type": "markdown",
      "metadata": {
        "id": "xmiVx_IanKA4"
      },
      "source": [
        "## Run and optimize SVM algorithm"
      ]
    },
    {
      "cell_type": "code",
      "metadata": {
        "id": "xJ7QGgvsDw-n",
        "colab": {
          "base_uri": "https://localhost:8080/",
          "height": 438
        },
        "outputId": "c09026af-44cf-464e-a7ae-e207a46dcee4"
      },
      "source": [
        "X_train, X_test, y_train, y_test = train_test_split(X, y, test_size=0.3, random_state=12345, stratify = y)\n",
        "svc = SVC(kernel='rbf', class_weight='balanced', C=10)\n",
        "svc.fit(X_train, y_train)\n",
        "y_pred = svc.predict(X_test)\n",
        "print(classification_report(y_test, y_pred))\n",
        "mat = confusion_matrix(y_test, y_pred)\n",
        "sns.heatmap(mat.T, square=True, annot=True, fmt='d', cbar=False)\n",
        "plt.xlabel('true label')\n",
        "plt.ylabel('predicted label');"
      ],
      "execution_count": null,
      "outputs": [
        {
          "output_type": "stream",
          "text": [
            "              precision    recall  f1-score   support\n",
            "\n",
            "           0       0.57      0.57      0.57         7\n",
            "           1       0.77      0.77      0.77        13\n",
            "\n",
            "    accuracy                           0.70        20\n",
            "   macro avg       0.67      0.67      0.67        20\n",
            "weighted avg       0.70      0.70      0.70        20\n",
            "\n"
          ],
          "name": "stdout"
        },
        {
          "output_type": "display_data",
          "data": {
            "image/png": "[encoded data removed]",
            "text/plain": [
              "<Figure size 432x288 with 1 Axes>"
            ]
          },
          "metadata": {
            "tags": [],
            "needs_background": "light"
          }
        }
      ]
    },
    {
      "cell_type": "code",
      "metadata": {
        "colab": {
          "base_uri": "https://localhost:8080/",
          "height": 302
        },
        "id": "4oJ0jCsKwqx-",
        "outputId": "14ad517c-7e08-433b-f254-c93e2e4db9a7"
      },
      "source": [
        "accuracy_lst = []\n",
        "\n",
        "for i in range(1,400):\n",
        "  X_clf_sc = MinMaxScaler().fit_transform(X)\n",
        "  selector = SelectKBest(chi2, k=i)\n",
        "  selector.fit(X_clf_sc, y)\n",
        "# Get columns to keep and create new dataframe with those only\n",
        "  cols = selector.get_support(indices=True)\n",
        "  features_df_new = X.iloc[:,cols]\n",
        "  X_train, X_test, y_train, y_test = train_test_split(features_df_new, y, test_size=0.3, random_state=12345, stratify = y)\n",
        "  svc = SVC(kernel='rbf', class_weight='balanced', C=10)\n",
        "  svc.fit(X_train, y_train)\n",
        "  y_pred = svc.predict(X_test)\n",
        "  acc = accuracy_score(y_test, y_pred)\n",
        "  accuracy_lst.append(acc)\n",
        "print(accuracy_lst)\n",
        "\n",
        "plt.plot(accuracy_lst)\n",
        "plt.show()\n"
      ],
      "execution_count": null,
      "outputs": [
        {
          "output_type": "stream",
          "text": [
            "[0.7, 0.65, 0.65, 0.65, 0.7, 0.65, 0.65, 0.65, 0.7, 0.7, 0.7, 0.7, 0.7, 0.7, 0.7, 0.65, 0.65, 0.65, 0.65, 0.65, 0.65, 0.65, 0.65, 0.65, 0.65, 0.65, 0.65, 0.65, 0.65, 0.65, 0.65, 0.65, 0.65, 0.65, 0.65, 0.65, 0.65, 0.65, 0.65, 0.65, 0.65, 0.65, 0.65, 0.65, 0.65, 0.65, 0.65, 0.65, 0.7, 0.7, 0.75, 0.75, 0.75, 0.75, 0.75, 0.75, 0.75, 0.75, 0.75, 0.75, 0.75, 0.75, 0.75, 0.75, 0.75, 0.8, 0.85, 0.85, 0.85, 0.85, 0.85, 0.85, 0.85, 0.85, 0.85, 0.85, 0.85, 0.85, 0.85, 0.85, 0.85, 0.85, 0.85, 0.85, 0.85, 0.85, 0.85, 0.85, 0.85, 0.9, 0.9, 0.9, 0.9, 0.9, 0.9, 0.9, 0.9, 0.9, 0.9, 0.9, 0.9, 0.9, 0.9, 0.85, 0.85, 0.85, 0.85, 0.85, 0.85, 0.85, 0.85, 0.85, 0.85, 0.85, 0.85, 0.85, 0.85, 0.85, 0.85, 0.85, 0.85, 0.85, 0.8, 0.8, 0.8, 0.8, 0.85, 0.85, 0.9, 0.9, 0.9, 0.9, 0.9, 0.9, 0.9, 0.9, 0.9, 0.9, 0.9, 0.9, 0.9, 0.9, 0.9, 0.9, 0.9, 0.9, 0.9, 0.9, 0.9, 0.9, 0.9, 0.9, 0.9, 0.9, 0.9, 0.9, 0.9, 0.9, 0.9, 0.9, 0.9, 0.9, 0.9, 0.9, 0.9, 0.9, 0.9, 0.9, 0.8, 0.8, 0.8, 0.8, 0.8, 0.8, 0.8, 0.8, 0.8, 0.8, 0.9, 0.9, 0.9, 0.9, 0.9, 0.9, 0.9, 0.9, 0.9, 0.9, 0.9, 0.9, 0.9, 0.9, 0.9, 0.9, 0.9, 0.9, 0.9, 0.9, 0.9, 0.9, 0.9, 0.9, 0.9, 0.9, 0.9, 0.9, 0.9, 0.9, 0.9, 0.9, 0.9, 0.9, 0.9, 0.9, 0.9, 0.9, 0.9, 0.9, 0.9, 0.9, 0.9, 0.9, 0.9, 0.9, 0.9, 0.9, 0.9, 0.9, 0.9, 0.9, 0.9, 0.9, 0.9, 0.9, 0.9, 0.9, 0.9, 0.9, 0.9, 0.9, 0.9, 0.9, 0.9, 0.9, 0.9, 0.9, 0.9, 0.9, 0.9, 0.9, 0.9, 0.9, 0.9, 0.9, 0.9, 0.9, 0.9, 0.9, 0.9, 0.9, 0.9, 0.9, 0.9, 0.9, 0.9, 0.9, 0.9, 0.9, 0.9, 0.9, 0.9, 0.9, 0.9, 0.9, 0.9, 0.9, 0.9, 0.9, 0.9, 0.9, 0.9, 0.9, 0.9, 0.9, 0.85, 0.85, 0.85, 0.85, 0.85, 0.85, 0.85, 0.85, 0.85, 0.85, 0.85, 0.85, 0.85, 0.85, 0.85, 0.85, 0.85, 0.85, 0.85, 0.85, 0.85, 0.85, 0.85, 0.85, 0.85, 0.85, 0.85, 0.85, 0.85, 0.85, 0.85, 0.85, 0.85, 0.85, 0.85, 0.85, 0.85, 0.85, 0.85, 0.85, 0.85, 0.85, 0.85, 0.85, 0.85, 0.85, 0.85, 0.85, 0.85, 0.85, 0.85, 0.85, 0.85, 0.85, 0.85, 0.85, 0.85, 0.85, 0.85, 0.85, 0.85, 0.85, 0.85, 0.85, 0.85, 0.85, 0.85, 0.85, 0.85, 0.85, 0.85, 0.85, 0.85, 0.9, 0.9, 0.9, 0.9, 0.9, 0.9, 0.9, 0.9, 0.9, 0.9, 0.9, 0.9, 0.9, 0.9, 0.9, 0.9, 0.9, 0.9, 0.9, 0.85, 0.85, 0.85, 0.85, 0.85, 0.85, 0.85, 0.85, 0.85, 0.85, 0.85, 0.85, 0.85, 0.85, 0.85, 0.85, 0.85, 0.85, 0.85, 0.85, 0.85, 0.85, 0.85]\n"
          ],
          "name": "stdout"
        },
        {
          "output_type": "display_data",
          "data": {
            "image/png": "[encoded data removed]",
            "text/plain": [
              "<Figure size 432x288 with 1 Axes>"
            ]
          },
          "metadata": {
            "tags": [],
            "needs_background": "light"
          }
        }
      ]
    },
    {
      "cell_type": "code",
      "metadata": {
        "colab": {
          "base_uri": "https://localhost:8080/",
          "height": 438
        },
        "id": "-cDiZJ_qd38t",
        "outputId": "4ec0f75c-5bfe-4f5a-9b60-e50599d8bd0b"
      },
      "source": [
        "X_clf_sc = MinMaxScaler().fit_transform(X)\n",
        "selector = SelectKBest(chi2, k=95)\n",
        "selector.fit(X_clf_sc, y)\n",
        "cols = selector.get_support(indices=True)\n",
        "features_df_new = X.iloc[:,cols]\n",
        "X_train, X_test, y_train, y_test = train_test_split(features_df_new, y, test_size=0.3, random_state=12345, stratify = y)\n",
        "svc = SVC(kernel='rbf', class_weight='balanced', C=10)\n",
        "svc.fit(X_train, y_train)\n",
        "y_pred = svc.predict(X_test)\n",
        "print(classification_report(y_test, y_pred))\n",
        "mat = confusion_matrix(y_test, y_pred)\n",
        "sns.heatmap(mat.T, square=True, annot=True, fmt='d', cbar=False)\n",
        "plt.xlabel('true label')\n",
        "plt.ylabel('predicted label');"
      ],
      "execution_count": null,
      "outputs": [
        {
          "output_type": "stream",
          "text": [
            "              precision    recall  f1-score   support\n",
            "\n",
            "           0       0.86      0.86      0.86         7\n",
            "           1       0.92      0.92      0.92        13\n",
            "\n",
            "    accuracy                           0.90        20\n",
            "   macro avg       0.89      0.89      0.89        20\n",
            "weighted avg       0.90      0.90      0.90        20\n",
            "\n"
          ],
          "name": "stdout"
        },
        {
          "output_type": "display_data",
          "data": {
            "image/png": "[encoded data removed]",
            "text/plain": [
              "<Figure size 432x288 with 1 Axes>"
            ]
          },
          "metadata": {
            "tags": [],
            "needs_background": "light"
          }
        }
      ]
    },
    {
      "cell_type": "code",
      "metadata": {
        "colab": {
          "base_uri": "https://localhost:8080/"
        },
        "id": "3YG0LZYFjYZA",
        "outputId": "fe9f7d30-1d64-4b73-9204-1db2016fa0d0"
      },
      "source": [
        "# Print features(genes) that best separate responders and non-responders.\n",
        "features_df_new.columns.values"
      ],
      "execution_count": null,
      "outputs": [
        {
          "output_type": "execute_result",
          "data": {
            "text/plain": [
              "array(['ENSG00000094796', 'ENSG00000094841', 'ENSG00000099194',\n",
              "       'ENSG00000100505', 'ENSG00000102055', 'ENSG00000108759',\n",
              "       'ENSG00000108852', 'ENSG00000109705', 'ENSG00000110203',\n",
              "       'ENSG00000111291', 'ENSG00000113205', 'ENSG00000117395',\n",
              "       'ENSG00000119929', 'ENSG00000121578', 'ENSG00000126778',\n",
              "       'ENSG00000127903', 'ENSG00000130035', 'ENSG00000130303',\n",
              "       'ENSG00000131737', 'ENSG00000131738', 'ENSG00000132932',\n",
              "       'ENSG00000135346', 'ENSG00000135443', 'ENSG00000136099',\n",
              "       'ENSG00000139197', 'ENSG00000139648', 'ENSG00000141668',\n",
              "       'ENSG00000142619', 'ENSG00000146856', 'ENSG00000149968',\n",
              "       'ENSG00000153993', 'ENSG00000155090', 'ENSG00000157005',\n",
              "       'ENSG00000159450', 'ENSG00000161850', 'ENSG00000163520',\n",
              "       'ENSG00000164694', 'ENSG00000168016', 'ENSG00000170442',\n",
              "       'ENSG00000170484', 'ENSG00000170523', 'ENSG00000171360',\n",
              "       'ENSG00000171396', 'ENSG00000171446', 'ENSG00000171819',\n",
              "       'ENSG00000173404', 'ENSG00000175065', 'ENSG00000177875',\n",
              "       'ENSG00000179342', 'ENSG00000179709', 'ENSG00000180730',\n",
              "       'ENSG00000181374', 'ENSG00000182591', 'ENSG00000183640',\n",
              "       'ENSG00000184351', 'ENSG00000185896', 'ENSG00000186860',\n",
              "       'ENSG00000188000', 'ENSG00000188581', 'ENSG00000196156',\n",
              "       'ENSG00000197079', 'ENSG00000198083', 'ENSG00000198090',\n",
              "       'ENSG00000198271', 'ENSG00000198443', 'ENSG00000198768',\n",
              "       'ENSG00000204873', 'ENSG00000204880', 'ENSG00000204889',\n",
              "       'ENSG00000204897', 'ENSG00000205426', 'ENSG00000212721',\n",
              "       'ENSG00000212722', 'ENSG00000212724', 'ENSG00000212725',\n",
              "       'ENSG00000212899', 'ENSG00000212900', 'ENSG00000212901',\n",
              "       'ENSG00000213416', 'ENSG00000213417', 'ENSG00000214510',\n",
              "       'ENSG00000214518', 'ENSG00000221852', 'ENSG00000221880',\n",
              "       'ENSG00000222001', 'ENSG00000224738', 'ENSG00000225775',\n",
              "       'ENSG00000227811', 'ENSG00000231160', 'ENSG00000236714',\n",
              "       'ENSG00000240871', 'ENSG00000241595', 'ENSG00000243489',\n",
              "       'ENSG00000244537', 'ENSG00000261959'], dtype=object)"
            ]
          },
          "metadata": {
            "tags": []
          },
          "execution_count": 15
        }
      ]
    },
    {
      "cell_type": "markdown",
      "metadata": {
        "id": "2BMadGMyniDv"
      },
      "source": [
        "### Test SVM algorithm with different kernels"
      ]
    },
    {
      "cell_type": "code",
      "metadata": {
        "colab": {
          "base_uri": "https://localhost:8080/",
          "height": 473
        },
        "id": "lvxszRcoG-vC",
        "outputId": "e8d73b50-eed4-475b-d8a1-c65fafc64034"
      },
      "source": [
        "from sklearn.svm import SVC\n",
        "svclassifier = SVC(kernel='poly', degree=8)\n",
        "svclassifier.fit(X_train, y_train)\n",
        "y_pred = svclassifier.predict(X_test)\n",
        "from sklearn.metrics import classification_report, confusion_matrix\n",
        "print(confusion_matrix(y_test, y_pred))\n",
        "print(classification_report(y_test, y_pred))\n",
        "mat = confusion_matrix(y_test, y_pred)\n",
        "sns.heatmap(mat.T, square=True, annot=True, fmt='d', cbar=False)\n",
        "plt.xlabel('true label')\n",
        "plt.ylabel('predicted label');"
      ],
      "execution_count": null,
      "outputs": [
        {
          "output_type": "stream",
          "text": [
            "[[ 1  6]\n",
            " [ 1 12]]\n",
            "              precision    recall  f1-score   support\n",
            "\n",
            "           0       0.50      0.14      0.22         7\n",
            "           1       0.67      0.92      0.77        13\n",
            "\n",
            "    accuracy                           0.65        20\n",
            "   macro avg       0.58      0.53      0.50        20\n",
            "weighted avg       0.61      0.65      0.58        20\n",
            "\n"
          ],
          "name": "stdout"
        },
        {
          "output_type": "display_data",
          "data": {
            "image/png": "[encoded data removed]",
            "text/plain": [
              "<Figure size 432x288 with 1 Axes>"
            ]
          },
          "metadata": {
            "tags": [],
            "needs_background": "light"
          }
        }
      ]
    },
    {
      "cell_type": "code",
      "metadata": {
        "colab": {
          "base_uri": "https://localhost:8080/",
          "height": 528
        },
        "id": "4rQIY_H7HR9H",
        "outputId": "b5bc4ace-a76b-48a5-bedd-68529d448065"
      },
      "source": [
        "from sklearn.svm import SVC\n",
        "svclassifier = SVC(kernel='sigmoid', degree=8)\n",
        "svclassifier.fit(X_train, y_train)\n",
        "y_pred = svclassifier.predict(X_test)\n",
        "from sklearn.metrics import classification_report, confusion_matrix\n",
        "print(confusion_matrix(y_test, y_pred))\n",
        "print(classification_report(y_test, y_pred))\n",
        "mat = confusion_matrix(y_test, y_pred)\n",
        "sns.heatmap(mat.T, square=True, annot=True, fmt='d', cbar=False)\n",
        "plt.xlabel('true label')\n",
        "plt.ylabel('predicted label');"
      ],
      "execution_count": null,
      "outputs": [
        {
          "output_type": "stream",
          "text": [
            "[[ 0  7]\n",
            " [ 0 13]]\n",
            "              precision    recall  f1-score   support\n",
            "\n",
            "           0       0.00      0.00      0.00         7\n",
            "           1       0.65      1.00      0.79        13\n",
            "\n",
            "    accuracy                           0.65        20\n",
            "   macro avg       0.33      0.50      0.39        20\n",
            "weighted avg       0.42      0.65      0.51        20\n",
            "\n"
          ],
          "name": "stdout"
        },
        {
          "output_type": "stream",
          "text": [
            "/usr/local/lib/python3.7/dist-packages/sklearn/metrics/_classification.py:1272: UndefinedMetricWarning: Precision and F-score are ill-defined and being set to 0.0 in labels with no predicted samples. Use `zero_division` parameter to control this behavior.\n",
            "  _warn_prf(average, modifier, msg_start, len(result))\n"
          ],
          "name": "stderr"
        },
        {
          "output_type": "display_data",
          "data": {
            "image/png": "[encoded data removed]",
            "text/plain": [
              "<Figure size 432x288 with 1 Axes>"
            ]
          },
          "metadata": {
            "tags": [],
            "needs_background": "light"
          }
        }
      ]
    },
    {
      "cell_type": "markdown",
      "metadata": {
        "id": "LiytWBc4jyom"
      },
      "source": [
        "## Run and optimize KNN algorithm"
      ]
    },
    {
      "cell_type": "code",
      "metadata": {
        "id": "t-VWucHHNt9n",
        "colab": {
          "base_uri": "https://localhost:8080/",
          "height": 508
        },
        "outputId": "74fdbb00-84b6-48d6-f04a-33786e181c62"
      },
      "source": [
        "parameters = {\n",
        "    \"n_neighbors\": range(1, 36),\n",
        "    \"weights\": [\"uniform\", \"distance\"],\n",
        "}\n",
        "gridsearch = GridSearchCV(KNeighborsClassifier(), parameters)\n",
        "gridsearch.fit(X_train, y_train)\n",
        "\n",
        "gridsearch.best_params_\n",
        "\n",
        "test_preds = gridsearch.predict(X_test)\n",
        "test_mse = mean_squared_error(y_test, test_preds_grid)\n",
        "test_rmse = sqrt(test_mse)\n",
        "test_rmse\n",
        "\n",
        "print(\"Accuracy:\",accuracy_score(y_test, test_preds_grid),\"RMSE:\",test_rmse)\n",
        "print(\"Accuracy:\",accuracy_score(y_test, test_preds))\n",
        "print(confusion_matrix(y_test, test_preds))\n",
        "print(classification_report(y_test, test_preds))\n",
        "mat = confusion_matrix(y_test, test_preds)\n",
        "sns.heatmap(mat.T, square=True, annot=True, fmt='d', cbar=False)\n",
        "plt.xlabel('true label')\n",
        "plt.ylabel('predicted label');"
      ],
      "execution_count": null,
      "outputs": [
        {
          "output_type": "stream",
          "text": [
            "Accuracy: 0.7 RMSE: 0.5477225575051661\n",
            "Accuracy: 0.7\n",
            "[[ 2  5]\n",
            " [ 1 12]]\n",
            "              precision    recall  f1-score   support\n",
            "\n",
            "           0       0.67      0.29      0.40         7\n",
            "           1       0.71      0.92      0.80        13\n",
            "\n",
            "    accuracy                           0.70        20\n",
            "   macro avg       0.69      0.60      0.60        20\n",
            "weighted avg       0.69      0.70      0.66        20\n",
            "\n"
          ],
          "name": "stdout"
        },
        {
          "output_type": "display_data",
          "data": {
            "image/png": "[encoded data removed]",
            "text/plain": [
              "<Figure size 432x288 with 1 Axes>"
            ]
          },
          "metadata": {
            "tags": [],
            "needs_background": "light"
          }
        }
      ]
    },
    {
      "cell_type": "markdown",
      "metadata": {
        "id": "Nawttrccn0nt"
      },
      "source": [
        "## Run and optimize RF algorithm"
      ]
    },
    {
      "cell_type": "code",
      "metadata": {
        "id": "kCOEdkjNpmsN",
        "colab": {
          "base_uri": "https://localhost:8080/"
        },
        "outputId": "3119f592-f79e-4221-a34a-62daff05f359"
      },
      "source": [
        "#Import Random Forest Model\n",
        "from sklearn.ensemble import RandomForestClassifier\n",
        "\n",
        "parameters = {\n",
        "    \"n_estimators\": range(1, 1000)\n",
        "}\n",
        "\n",
        "gridsearch = GridSearchCV(RandomForestClassifier(), parameters)\n",
        "gridsearch.fit(X_train, y_train)\n",
        "\n",
        "gridsearch.best_params_\n",
        "test_preds = gridsearch.predict(X_test)\n",
        "\n",
        "#test_preds = gridsearch.predict(X_test)\n",
        "\n",
        "#clf=RandomForestClassifier(n_estimators=528)\n",
        "\n",
        "#Train the model using the training sets \n",
        "clf.fit(X_train,y_train)\n",
        "\n",
        "y_pred=clf.predict(X_test)\n",
        "print(\"Accuracy:\",accuracy_score(y_test, y_pred))\n",
        "print(confusion_matrix(y_test, y_pred))\n",
        "print(classification_report(y_test, y_pred))\n",
        "mat = confusion_matrix(y_test, y_pred)\n",
        "sns.heatmap(mat.T, square=True, annot=True, fmt='d', cbar=False)\n",
        "plt.xlabel('true label')\n",
        "plt.ylabel('predicted label');"
      ],
      "execution_count": null,
      "outputs": [
        {
          "output_type": "stream",
          "text": [
            "Accuracy: 0.5\n"
          ],
          "name": "stdout"
        }
      ]
    },
    {
      "cell_type": "code",
      "metadata": {
        "id": "IG1XuPYSPLlV",
        "colab": {
          "base_uri": "https://localhost:8080/"
        },
        "outputId": "130c891c-8531-44b8-d729-f3ffd6cb6f54"
      },
      "source": [
        "from sklearn.neural_network import MLPClassifier\n",
        "\n",
        "clf = MLPClassifier(solver='lbfgs', alpha=1e-5,\n",
        "                    hidden_layer_sizes=(15,), random_state=1)\n",
        "\n",
        "clf.fit(X_train, y_train)\n",
        "\n",
        "y_pred_MLP = clf.predict(X_test)\n",
        "print(\"Accuracy:\",accuracy_score(y_test, y_pred_MLP))"
      ],
      "execution_count": null,
      "outputs": [
        {
          "output_type": "stream",
          "text": [
            "Accuracy: 0.5\n"
          ],
          "name": "stdout"
        }
      ]
    }
  ]
}